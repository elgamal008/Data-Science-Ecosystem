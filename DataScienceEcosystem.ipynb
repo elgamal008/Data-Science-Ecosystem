{
 "cells": [
  {
   "cell_type": "markdown",
   "id": "5c3c5264-0350-4a2b-8eeb-1e064d1bbe63",
   "metadata": {},
   "source": [
    "# Data Science Tools and Ecosystem\n"
   ]
  },
  {
   "cell_type": "markdown",
   "id": "2db36708-482a-42cf-972e-aec55001037e",
   "metadata": {},
   "source": [
    "**Objectives:**\n",
    "\n",
    "-  popular languages for Data Science\n",
    "-  libraries for Data Science\n",
    "-  Data Science tools \n",
    "- Convert minutes to hours\n",
    "- Create markdown cells\n"
   ]
  },
  {
   "cell_type": "markdown",
   "id": "a10ce76d-1c12-4454-ba2f-893995bf304b",
   "metadata": {},
   "source": [
    "In this notebook, data science tools and ecosystem are summarized"
   ]
  },
  {
   "cell_type": "markdown",
   "id": "c0bbae09-1fae-4e43-8931-f9cc878c6d7c",
   "metadata": {},
   "source": [
    "Some of the popular languages that Data Scientists use are:\n",
    "\n",
    "1. Python  \n",
    "2. R  \n",
    "3. SQL  \n",
    "4. Java  \n",
    "5. Scala\n"
   ]
  },
  {
   "cell_type": "markdown",
   "id": "5bb8fe22-a1da-4267-af9a-3aede8f3b836",
   "metadata": {},
   "source": [
    "Some of the commonly used libraries used by Data Scientists include:\n",
    "\n",
    "1. Pandas  \n",
    "2. NumPy  \n",
    "3. Matplotlib  \n",
    "4. Scikit-learn  \n",
    "5. ggplot\n"
   ]
  },
  {
   "cell_type": "markdown",
   "id": "6a23f41e-58b1-4cc0-840c-e743a753bb0c",
   "metadata": {},
   "source": [
    "## Data Science Tools\n",
    "| Data Science Tools        |\n",
    "|---------------------------|\n",
    "| Jupyter Notebook          |\n",
    "| RStudio                   |\n",
    "| VS Code                   |\n"
   ]
  },
  {
   "cell_type": "markdown",
   "id": "e74bc12d-924b-4ea7-818f-0420a6cafbe3",
   "metadata": {},
   "source": [
    "### Below are a few examples of evaluating arithmetic expressions in Python.\n",
    "\n"
   ]
  },
  {
   "cell_type": "code",
   "execution_count": 3,
   "id": "c0a2a54f-b7ac-42b0-8952-4fdc8756ffc1",
   "metadata": {},
   "outputs": [
    {
     "name": "stdout",
     "output_type": "stream",
     "text": [
      "17\n"
     ]
    }
   ],
   "source": [
    "#This a simple arithmetic expression to mutiply then add integers\n",
    "x = (3*4)+5\n",
    "print (x)"
   ]
  },
  {
   "cell_type": "code",
   "execution_count": 5,
   "id": "f541b63c-dba1-401f-a9f3-8f665d84bf3f",
   "metadata": {},
   "outputs": [
    {
     "data": {
      "text/plain": [
       "3.3333333333333335"
      ]
     },
     "execution_count": 5,
     "metadata": {},
     "output_type": "execute_result"
    }
   ],
   "source": [
    "#This will convert 200 minutes to hours by diving by 60.\n",
    "def convertor(minutes):\n",
    "    hours = minutes/60\n",
    "    return hours\n",
    "\n",
    "time_in_minutes=200\n",
    "convertor(time_in_minutes)\n",
    "    "
   ]
  },
  {
   "cell_type": "markdown",
   "id": "bb52baf5-5103-4abd-a573-b4b2e9786055",
   "metadata": {},
   "source": [
    "## Author \n",
    "Youssef Elgamal"
   ]
  },
  {
   "cell_type": "code",
   "execution_count": null,
   "id": "5a1577f1-86d4-4cac-aba9-f00fedc914fd",
   "metadata": {},
   "outputs": [],
   "source": []
  }
 ],
 "metadata": {
  "kernelspec": {
   "display_name": "Python 3 (ipykernel)",
   "language": "python",
   "name": "python3"
  },
  "language_info": {
   "codemirror_mode": {
    "name": "ipython",
    "version": 3
   },
   "file_extension": ".py",
   "mimetype": "text/x-python",
   "name": "python",
   "nbconvert_exporter": "python",
   "pygments_lexer": "ipython3",
   "version": "3.11.7"
  }
 },
 "nbformat": 4,
 "nbformat_minor": 5
}
